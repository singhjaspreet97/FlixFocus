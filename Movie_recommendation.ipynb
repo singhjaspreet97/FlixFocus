{
  "cells": [
    {
      "cell_type": "code",
      "execution_count": 1,
      "metadata": {
        "colab": {
          "base_uri": "https://localhost:8080/"
        },
        "id": "WO7St0OljSzT",
        "outputId": "e89e5b52-cd13-4395-bd64-d16d0916b2e1"
      },
      "outputs": [
        {
          "name": "stdout",
          "output_type": "stream",
          "text": [
            "Dataset Columns: Index(['movie_id', 'movie_name', 'year', 'certificate', 'runtime', 'genre',\n",
            "       'rating', 'description', 'director', 'director_id', 'star', 'star_id',\n",
            "       'votes', 'gross(in $)'],\n",
            "      dtype='object')\n",
            "Movies similar to 'Avengers: Endgame':\n",
            "99                  Avengers: Infinity War\n",
            "281             Captain America: Civil War\n",
            "385    Captain America: The Winter Soldier\n",
            "53                            The Gray Man\n",
            "259                Avengers: Age of Ultron\n",
            "393              Spider-Man: Far from Home\n",
            "184                           The Avengers\n",
            "642                   Thor: The Dark World\n",
            "222                         Thor: Ragnarok\n",
            "918            Men in Black: International\n",
            "Name: movie_name, dtype: object\n"
          ]
        }
      ],
      "source": [
        "# Import necessary libraries\n",
        "import pandas as pd\n",
        "from sklearn.feature_extraction.text import TfidfVectorizer\n",
        "from sklearn.metrics.pairwise import cosine_similarity\n",
        "from google.colab import files\n",
        "\n",
        "# Load the dataset\n",
        "movies_df = pd.read_csv('/content/action.csv')\n",
        "movies_df = movies_df.head(1000)\n",
        "\n",
        "# Check the dataset structure\n",
        "print(\"Dataset Columns:\", movies_df.columns)\n",
        "# print(\"First 5 rows of the dataset:\", movies_df.head())\n",
        "\n",
        "movies_df['description'] = movies_df['description'].fillna('')\n",
        "movies_df['genre'] = movies_df['genre'].fillna('')\n",
        "movies_df['director'] = movies_df['director'].fillna('')\n",
        "movies_df['star'] = movies_df['star'].fillna('')\n",
        "\n",
        "# Combine relevant features into a single string feature\n",
        "movies_df['combined_features'] = movies_df.apply(lambda row: row['description'] + ' ' + row['genre'] + ' ' + row['director'] + ' ' + row['star'], axis=1)\n",
        "\n",
        "# Now let's vectorize the combined features for similarity calculation\n",
        "tfidf_vectorizer = TfidfVectorizer(stop_words='english')\n",
        "tfidf_matrix = tfidf_vectorizer.fit_transform(movies_df['combined_features'])\n",
        "\n",
        "# Compute similarity using cosine similarity\n",
        "cosine_sim = cosine_similarity(tfidf_matrix, tfidf_matrix)\n",
        "\n",
        "def get_recommendations(movie_title, cosine_sim=cosine_sim):\n",
        "    try:\n",
        "        # Get the index of the movie that matches the title\n",
        "        idx = movies_df.index[movies_df['movie_name'] == movie_title].tolist()[0]\n",
        "\n",
        "        # Get the pairwise similarity scores of all movies with that movie\n",
        "        sim_scores = list(enumerate(cosine_sim[idx]))\n",
        "\n",
        "        # Sort the movies based on the similarity scores\n",
        "        sim_scores = sorted(sim_scores, key=lambda x: x[1], reverse=True)\n",
        "\n",
        "        # Get the scores of the 10 most similar movies (excluding the input movie itself)\n",
        "        sim_scores = sim_scores[1:11]  # Skip the first one as it is the same movie\n",
        "\n",
        "        # Get the movie indices\n",
        "        movie_indices = [i[0] for i in sim_scores]\n",
        "\n",
        "        # Return the top 10 most similar movies\n",
        "        return movies_df['movie_name'].iloc[movie_indices]\n",
        "    except IndexError:\n",
        "        print(f\"'{movie_title}' not found in the dataset.\")\n",
        "        return []\n",
        "\n",
        "input_movie = \"Avengers: Endgame\"  # Replace with any movie title from your dataset\n",
        "recommendations = get_recommendations(input_movie)\n",
        "print(\"Movies similar to '{}':\".format(input_movie))\n",
        "print(recommendations)\n"
      ]
    }
  ],
  "metadata": {
    "colab": {
      "provenance": []
    },
    "kernelspec": {
      "display_name": "Python 3",
      "name": "python3"
    },
    "language_info": {
      "name": "python"
    }
  },
  "nbformat": 4,
  "nbformat_minor": 0
}
